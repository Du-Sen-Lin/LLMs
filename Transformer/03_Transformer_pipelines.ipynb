{
 "cells": [
  {
   "cell_type": "markdown",
   "id": "e36faeb7-52ba-4f9e-8673-05c863a0d0bd",
   "metadata": {},
   "source": [
    "# Transformers 库将目前的 NLP 任务归纳为几下几类：\n",
    "\n",
    "**文本分类**：例如情感分析、句子对关系判断等；\n",
    "\n",
    "**对文本中的词语进行分类**：例如词性标注 (POS)、命名实体识别 (NER) 等；\n",
    "\n",
    "**文本生成**：例如填充预设的模板 (prompt)、预测文本中被遮掩掉 (masked) 的词语；\n",
    "\n",
    "**从文本中抽取答案**：例如根据给定的问题从一段文本中抽取出对应的答案；\n",
    "\n",
    "**根据输入文本生成新的句子**：例如文本翻译、自动摘要等。\n",
    "\n",
    "Transformers 库最基础的对象就是 pipeline() 函数，它封装了预训练模型和对应的前处理和后处理环节。我们只需输入文本，就能得到预期的答案。目前常用的 pipelines 有：\n",
    "\n",
    "    feature-extraction （获得文本的向量化表示）\n",
    "    fill-mask （填充被遮盖的词、片段）\n",
    "    ner（命名实体识别）\n",
    "    question-answering （自动问答）\n",
    "    sentiment-analysis （情感分析）\n",
    "    summarization （自动摘要）\n",
    "    text-generation （文本生成）\n",
    "    translation （机器翻译）\n",
    "    zero-shot-classification （零训练样本分类）"
   ]
  },
  {
   "cell_type": "markdown",
   "id": "68778f64-e9c1-41f4-9d6c-cd18485412f2",
   "metadata": {},
   "source": [
    "# 情感分析\n",
    "借助情感分析 pipeline，我们只需要输入文本，就可以得到其情感标签（积极/消极）以及对应的概率："
   ]
  },
  {
   "cell_type": "code",
   "execution_count": null,
   "id": "930fdcb0-d2a6-4280-9b71-342ea03983b0",
   "metadata": {},
   "outputs": [],
   "source": [
    "from transformers import pipeline\n",
    "\n",
    "classifier = pipeline(\"sentiment-analysis\")\n",
    "result = classifier(\"I've been waiting for a HuggingFace course my whole life.\")\n",
    "print(result)\n",
    "results = classifier(\n",
    "  [\"I've been waiting for a HuggingFace course my whole life.\", \"I hate this so much!\"]\n",
    ")\n",
    "print(results)"
   ]
  },
  {
   "cell_type": "markdown",
   "id": "f1b92a82-eb61-4cde-900b-6339b1a8a76a",
   "metadata": {},
   "source": [
    "pipeline 模型会自动完成以下三个步骤：\n",
    "\n",
    "    将文本预处理为模型可以理解的格式；\n",
    "    将预处理好的文本送入模型；\n",
    "    对模型的预测值进行后处理，输出人类可以理解的格式。"
   ]
  },
  {
   "cell_type": "markdown",
   "id": "b2b884f1-6584-479c-bf05-62cf8034bf78",
   "metadata": {},
   "source": [
    "# 零训练样本分类"
   ]
  },
  {
   "cell_type": "code",
   "execution_count": null,
   "id": "462d19cd-16b1-4dd5-b3cd-eebd60036157",
   "metadata": {},
   "outputs": [],
   "source": [
    "from transformers import pipeline\n",
    "\n",
    "classifier = pipeline(\"zero-shot-classification\")\n",
    "result = classifier(\n",
    "\"This is a course about the Transformers library\",\n",
    "candidate_labels=[\"education\", \"politics\", \"business\"],\n",
    ")\n",
    "print(result)"
   ]
  },
  {
   "cell_type": "markdown",
   "id": "69767917-a8a3-46f0-aeca-aa9c71a414d4",
   "metadata": {},
   "source": [
    "# 文本生成\n",
    "我们首先根据任务需要构建一个模板 提示(prompt)，然后将其送入到模型中来生成后续文本。注意，由于文本生成具有随机性，因此每次运行都会得到不同的结果。\n"
   ]
  },
  {
   "cell_type": "code",
   "execution_count": null,
   "id": "023d0d6a-e6fb-41cf-8a45-8598188a70a3",
   "metadata": {},
   "outputs": [],
   "source": [
    "from transformers import pipeline\n",
    "\n",
    "generator = pipeline(\"text-generation\")\n",
    "results = generator(\"In this course, we will teach you how to\")\n",
    "print(results)\n",
    "results = generator(\n",
    "    \"In this course, we will teach you how to\",\n",
    "    num_return_sequences=2,\n",
    "    max_length=50\n",
    ") \n",
    "print(results)"
   ]
  },
  {
   "cell_type": "markdown",
   "id": "ed747bd4-742b-4257-9d51-09d4bbc6d80e",
   "metadata": {},
   "source": [
    "pipeline 自动选择了预训练好的 gpt2 模型来完成任务。我们也可以指定要使用的模型。对于文本生成任务，我们可以在 Model Hub 页面左边选择 Text Generation tag 查询支持的模型。例如，我们在相同的 pipeline 中加载 distilgpt2 模型："
   ]
  },
  {
   "cell_type": "code",
   "execution_count": null,
   "id": "ddc806e4-302a-44c8-aa9a-c8b2abf66a08",
   "metadata": {},
   "outputs": [],
   "source": [
    "from transformers import pipeline\n",
    "\n",
    "generator = pipeline(\"text-generation\", model=\"distilgpt2\")\n",
    "results = generator(\n",
    "    \"In this course, we will teach you how to\",\n",
    "    max_length=30,\n",
    "    num_return_sequences=2,\n",
    ")\n",
    "print(results)"
   ]
  },
  {
   "cell_type": "markdown",
   "id": "49527b63-7ad9-4ce7-ad99-cb20a87ceaac",
   "metadata": {},
   "source": [
    "还可以通过左边的语言 tag 选择其他语言的模型。例如加载专门用于生成中文古诗的 gpt2-chinese-poem 模型："
   ]
  },
  {
   "cell_type": "code",
   "execution_count": null,
   "id": "5173384c-5363-4ddc-8dbe-8904fecd50c7",
   "metadata": {},
   "outputs": [],
   "source": [
    "from transformers import pipeline\n",
    "\n",
    "generator = pipeline(\"text-generation\", model=\"uer/gpt2-chinese-poem\")\n",
    "results = generator(\n",
    "    \"[CLS] 万 叠 春 山 积 雨 晴 ，\",\n",
    "    max_length=40,\n",
    "    num_return_sequences=2,\n",
    ")\n",
    "print(results)"
   ]
  },
  {
   "cell_type": "markdown",
   "id": "a4d870ff-e109-459e-9342-701cc6abe52b",
   "metadata": {},
   "source": [
    "# 遮盖词填充\n",
    "\n",
    "给定一段部分词语被遮盖掉 (masked) 的文本，使用预训练模型来预测能够填充这些位置的词语。"
   ]
  },
  {
   "cell_type": "code",
   "execution_count": null,
   "id": "ef9ff5c6-1372-48cb-8dc0-c20f5588d23c",
   "metadata": {},
   "outputs": [],
   "source": [
    "from transformers import pipeline\n",
    "\n",
    "unmasker = pipeline(\"fill-mask\")\n",
    "results = unmasker(\"This course will teach you all about <mask> models.\", top_k=2)\n",
    "print(results)"
   ]
  },
  {
   "cell_type": "markdown",
   "id": "8260be2c-cb65-47a0-9dab-eaba3f4895c4",
   "metadata": {},
   "source": [
    "# 命名实体识别\n",
    "命名实体识别 (NER) pipeline 负责从文本中抽取出指定类型的实体，例如人物、地点、组织等等。"
   ]
  },
  {
   "cell_type": "code",
   "execution_count": null,
   "id": "cea42360-2fdb-4a60-ae7f-28d3cd6a8667",
   "metadata": {},
   "outputs": [],
   "source": [
    "from transformers import pipeline\n",
    "\n",
    "ner = pipeline(\"ner\", grouped_entities=True)\n",
    "results = ner(\"My name is Sylvain and I work at Hugging Face in Brooklyn.\")\n",
    "print(results)"
   ]
  },
  {
   "cell_type": "markdown",
   "id": "f950b8f0-aa50-4784-9ecd-46090f758053",
   "metadata": {},
   "source": [
    "# 自动问答\n",
    "自动问答 pipeline 可以根据给定的上下文回答问题"
   ]
  },
  {
   "cell_type": "code",
   "execution_count": null,
   "id": "d7c0bc91-4cb2-420f-9285-be8a6611a040",
   "metadata": {},
   "outputs": [],
   "source": [
    "from transformers import pipeline\n",
    "\n",
    "question_answerer = pipeline(\"question-answering\")\n",
    "answer = question_answerer(\n",
    "    question=\"Where do I work?\",\n",
    "    context=\"My name is Sylvain and I work at Hugging Face in Brooklyn\",\n",
    ")\n",
    "print(answer)"
   ]
  },
  {
   "cell_type": "markdown",
   "id": "cdeccad9-5a5a-4adf-aed4-b3bdb960c917",
   "metadata": {},
   "source": [
    "# 自动摘要\n",
    "自动摘要 pipeline 旨在将长文本压缩成短文本，并且还要尽可能保留原文的主要信息，例如："
   ]
  },
  {
   "cell_type": "code",
   "execution_count": null,
   "id": "db087635-005d-4925-b98b-15f6fd3d0fe6",
   "metadata": {},
   "outputs": [],
   "source": [
    "from transformers import pipeline\n",
    "\n",
    "summarizer = pipeline(\"summarization\")\n",
    "results = summarizer(\n",
    "    \"\"\"\n",
    "    America has changed dramatically during recent years. Not only has the number of \n",
    "    graduates in traditional engineering disciplines such as mechanical, civil, \n",
    "    electrical, chemical, and aeronautical engineering declined, but in most of \n",
    "    the premier American universities engineering curricula now concentrate on \n",
    "    and encourage largely the study of engineering science. As a result, there \n",
    "    are declining offerings in engineering subjects dealing with infrastructure, \n",
    "    the environment, and related issues, and greater concentration on high \n",
    "    technology subjects, largely supporting increasingly complex scientific \n",
    "    developments. While the latter is important, it should not be at the expense \n",
    "    of more traditional engineering.\n",
    "\n",
    "    Rapidly developing economies such as China and India, as well as other \n",
    "    industrial countries in Europe and Asia, continue to encourage and advance \n",
    "    the teaching of engineering. Both China and India, respectively, graduate \n",
    "    six and eight times as many traditional engineers as does the United States. \n",
    "    Other industrial countries at minimum maintain their output, while America \n",
    "    suffers an increasingly serious decline in the number of engineering graduates \n",
    "    and a lack of well-educated engineers.\n",
    "    \"\"\"\n",
    ")\n",
    "print(results)"
   ]
  },
  {
   "cell_type": "markdown",
   "id": "3ca5d0f8-56a0-424e-aff7-f79ab213303d",
   "metadata": {},
   "source": [
    "# 这些 pipeline 背后做了什么？\n",
    "以第一个情感分析 pipeline 为例\n",
    "背后经过了三个步骤：\n",
    "\n",
    "    预处理 (preprocessing)，将原始文本转换为模型可以接受的输入格式；\n",
    "    将处理好的输入送入模型；\n",
    "    对模型的输出进行后处理 (postprocessing)，将其转换为人类方便阅读的格式。"
   ]
  },
  {
   "cell_type": "markdown",
   "id": "d4255bee-7d7d-49c6-b3e0-2a21bcd318e2",
   "metadata": {},
   "source": [
    "## 预处理：使用分词器进行预处理\n",
    "因为神经网络模型无法直接处理文本，因此首先需要通过预处理环节将文本转换为模型可以理解的数字。具体地，我们会使用每个模型对应的分词器 (tokenizer) 来进行：\n",
    "\n",
    "    将输入切分为词语、子词或者符号（例如标点符号），统称为 tokens；\n",
    "    根据模型的词表将每个 token 映射到对应的 token 编号（就是一个数字）；\n",
    "    根据模型的需要，添加一些额外的输入。"
   ]
  },
  {
   "cell_type": "markdown",
   "id": "5f49dd56-43db-4b8a-99ff-12bdc39f79a4",
   "metadata": {},
   "source": [
    "## 将预处理好的输入送入模型\n",
    "预训练模型的下载方式和分词器 (tokenizer) 类似，Transformers 包提供了一个 AutoModel 类和对应的 from_pretrained() 函数。\n",
    "\n",
    "预训练模型的本体只包含基础的 Transformer 模块，对于给定的输入，它会输出一些神经元的值，称为 hidden states 或者特征 (features)。对于 NLP 模型来说，可以理解为是文本的高维语义表示。这些 hidden states 通常会被输入到其他的模型部分（称为 head），以完成特定的任务，例如送入到分类头中完成文本分类任务。"
   ]
  },
  {
   "cell_type": "markdown",
   "id": "8afb49d1-06e1-4d4c-906c-9808258575e7",
   "metadata": {},
   "source": [
    "## 对模型输出进行后处理\n"
   ]
  },
  {
   "cell_type": "code",
   "execution_count": null,
   "id": "642a9171-c395-4f1c-8f21-b4c3c8f596f2",
   "metadata": {},
   "outputs": [],
   "source": []
  }
 ],
 "metadata": {
  "kernelspec": {
   "display_name": "Python 3 (ipykernel)",
   "language": "python",
   "name": "python3"
  },
  "language_info": {
   "codemirror_mode": {
    "name": "ipython",
    "version": 3
   },
   "file_extension": ".py",
   "mimetype": "text/x-python",
   "name": "python",
   "nbconvert_exporter": "python",
   "pygments_lexer": "ipython3",
   "version": "3.10.16"
  }
 },
 "nbformat": 4,
 "nbformat_minor": 5
}
